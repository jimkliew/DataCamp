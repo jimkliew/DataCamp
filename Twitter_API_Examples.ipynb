{
  "nbformat": 4,
  "nbformat_minor": 0,
  "metadata": {
    "colab": {
      "name": "Twitter_API_Examples.ipynb",
      "provenance": [],
      "collapsed_sections": [],
      "authorship_tag": "ABX9TyOFjF3mrSK+biwRg+9J7oxU",
      "include_colab_link": true
    },
    "kernelspec": {
      "name": "python3",
      "display_name": "Python 3"
    },
    "language_info": {
      "name": "python"
    }
  },
  "cells": [
    {
      "cell_type": "markdown",
      "metadata": {
        "id": "view-in-github",
        "colab_type": "text"
      },
      "source": [
        "<a href=\"https://colab.research.google.com/github/jimkliew/DataCamp/blob/master/Twitter_API_Examples.ipynb\" target=\"_parent\"><img src=\"https://colab.research.google.com/assets/colab-badge.svg\" alt=\"Open In Colab\"/></a>"
      ]
    },
    {
      "cell_type": "code",
      "metadata": {
        "id": "FE_w5GVUoect"
      },
      "source": [
        "# Import package\n",
        "import tweepy\n",
        "\n",
        "# Store OAuth authentication credentials in relevant variables\n",
        "consumer_key        = \"cOj4VKlPK7FgVcjjYvoqu7PlU\"\n",
        "consumer_secret     = \"Hb8oB6y4sK0nqQ728urntvGRYW7iYjjlzRpZW5w30WiT1eQ1c6\"\n",
        "\n",
        "access_token        = \"1377974144-awSU1edk8a9SAg4GfDXoEWQMchp13kKXb6RkMUI\"\n",
        "access_token_secret = \"13FpVUXY2gjmqEVMCYrpvq4iVor8l6FGm9R9slj2jXAHZ\"\n",
        "\n",
        "# Pass OAuth details to tweepy's OAuth handler\n",
        "auth = tweepy.OAuthHandler(consumer_key, consumer_secret)\n",
        "auth.set_access_token(access_token, access_token_secret)\n",
        "\n"
      ],
      "execution_count": 1,
      "outputs": []
    },
    {
      "cell_type": "markdown",
      "metadata": {
        "id": "4HQYnGYhoml7"
      },
      "source": [
        "# New Section"
      ]
    },
    {
      "cell_type": "code",
      "metadata": {
        "id": "QMV1jgk8ojUj"
      },
      "source": [
        ""
      ],
      "execution_count": null,
      "outputs": []
    }
  ]
}